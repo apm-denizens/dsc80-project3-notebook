{
 "cells": [
  {
   "cell_type": "code",
   "execution_count": 2,
   "metadata": {},
   "outputs": [],
   "source": [
    "import os\n",
    "import pandas as pd\n",
    "import numpy as np"
   ]
  },
  {
   "cell_type": "code",
   "execution_count": 3,
   "metadata": {},
   "outputs": [
    {
     "name": "stderr",
     "output_type": "stream",
     "text": [
      "/Users/elim-mbp-01/.pyenv/versions/3.8.16/envs/dsc80_39/lib/python3.8/site-packages/IPython/core/interactiveshell.py:3505: DtypeWarning: Columns (2) have mixed types.Specify dtype option on import or set low_memory=False.\n",
      "  exec(code_obj, self.user_global_ns, self.user_ns)\n"
     ]
    }
   ],
   "source": [
    "league_fp = os.path.join('data', '2022_LoL_esports_match_data_from_OraclesElixir.csv')\n",
    "league_raw = pd.read_csv(league_fp)"
   ]
  },
  {
   "attachments": {},
   "cell_type": "markdown",
   "metadata": {},
   "source": [
    "# Which role “carries” (does the best) in their team more often: ADCs (Bot lanes) or Mid laners?"
   ]
  },
  {
   "attachments": {},
   "cell_type": "markdown",
   "metadata": {},
   "source": [
    "# Is Talon (tutor Costin’s favorite champion) more likely to win or lose any given match?\n"
   ]
  },
  {
   "cell_type": "code",
   "execution_count": 4,
   "metadata": {},
   "outputs": [
    {
     "data": {
      "text/plain": [
       "['gameid',\n",
       " 'datacompleteness',\n",
       " 'url',\n",
       " 'league',\n",
       " 'year',\n",
       " 'split',\n",
       " 'playoffs',\n",
       " 'date',\n",
       " 'game',\n",
       " 'patch',\n",
       " 'participantid',\n",
       " 'side',\n",
       " 'position',\n",
       " 'playername',\n",
       " 'playerid',\n",
       " 'teamname',\n",
       " 'teamid',\n",
       " 'champion',\n",
       " 'ban1',\n",
       " 'ban2',\n",
       " 'ban3',\n",
       " 'ban4',\n",
       " 'ban5',\n",
       " 'gamelength',\n",
       " 'result',\n",
       " 'kills',\n",
       " 'deaths',\n",
       " 'assists',\n",
       " 'teamkills',\n",
       " 'teamdeaths',\n",
       " 'doublekills',\n",
       " 'triplekills',\n",
       " 'quadrakills',\n",
       " 'pentakills',\n",
       " 'firstblood',\n",
       " 'firstbloodkill',\n",
       " 'firstbloodassist',\n",
       " 'firstbloodvictim',\n",
       " 'team kpm',\n",
       " 'ckpm',\n",
       " 'firstdragon',\n",
       " 'dragons',\n",
       " 'opp_dragons',\n",
       " 'elementaldrakes',\n",
       " 'opp_elementaldrakes',\n",
       " 'infernals',\n",
       " 'mountains',\n",
       " 'clouds',\n",
       " 'oceans',\n",
       " 'chemtechs',\n",
       " 'hextechs',\n",
       " 'dragons (type unknown)',\n",
       " 'elders',\n",
       " 'opp_elders',\n",
       " 'firstherald',\n",
       " 'heralds',\n",
       " 'opp_heralds',\n",
       " 'firstbaron',\n",
       " 'barons',\n",
       " 'opp_barons',\n",
       " 'firsttower',\n",
       " 'towers',\n",
       " 'opp_towers',\n",
       " 'firstmidtower',\n",
       " 'firsttothreetowers',\n",
       " 'turretplates',\n",
       " 'opp_turretplates',\n",
       " 'inhibitors',\n",
       " 'opp_inhibitors',\n",
       " 'damagetochampions',\n",
       " 'dpm',\n",
       " 'damageshare',\n",
       " 'damagetakenperminute',\n",
       " 'damagemitigatedperminute',\n",
       " 'wardsplaced',\n",
       " 'wpm',\n",
       " 'wardskilled',\n",
       " 'wcpm',\n",
       " 'controlwardsbought',\n",
       " 'visionscore',\n",
       " 'vspm',\n",
       " 'totalgold',\n",
       " 'earnedgold',\n",
       " 'earned gpm',\n",
       " 'earnedgoldshare',\n",
       " 'goldspent',\n",
       " 'gspd',\n",
       " 'total cs',\n",
       " 'minionkills',\n",
       " 'monsterkills',\n",
       " 'monsterkillsownjungle',\n",
       " 'monsterkillsenemyjungle',\n",
       " 'cspm',\n",
       " 'goldat10',\n",
       " 'xpat10',\n",
       " 'csat10',\n",
       " 'opp_goldat10',\n",
       " 'opp_xpat10',\n",
       " 'opp_csat10',\n",
       " 'golddiffat10',\n",
       " 'xpdiffat10',\n",
       " 'csdiffat10',\n",
       " 'killsat10',\n",
       " 'assistsat10',\n",
       " 'deathsat10',\n",
       " 'opp_killsat10',\n",
       " 'opp_assistsat10',\n",
       " 'opp_deathsat10',\n",
       " 'goldat15',\n",
       " 'xpat15',\n",
       " 'csat15',\n",
       " 'opp_goldat15',\n",
       " 'opp_xpat15',\n",
       " 'opp_csat15',\n",
       " 'golddiffat15',\n",
       " 'xpdiffat15',\n",
       " 'csdiffat15',\n",
       " 'killsat15',\n",
       " 'assistsat15',\n",
       " 'deathsat15',\n",
       " 'opp_killsat15',\n",
       " 'opp_assistsat15',\n",
       " 'opp_deathsat15']"
      ]
     },
     "execution_count": 4,
     "metadata": {},
     "output_type": "execute_result"
    }
   ],
   "source": [
    "matchgb = league_raw.groupby(\"gameid\").get_group(\"ESPORTSTMNT01_2690210\")\n",
    "matchgb_columns = matchgb.columns.to_list()\n",
    "matchgb_columns\n"
   ]
  },
  {
   "cell_type": "code",
   "execution_count": 7,
   "metadata": {},
   "outputs": [
    {
     "data": {
      "text/plain": [
       "['gameid',\n",
       " 'datacompleteness',\n",
       " 'url',\n",
       " 'league',\n",
       " 'year',\n",
       " 'split',\n",
       " 'playoffs',\n",
       " 'date',\n",
       " 'game',\n",
       " 'patch',\n",
       " 'participantid',\n",
       " 'side',\n",
       " 'position',\n",
       " 'playername',\n",
       " 'playerid',\n",
       " 'teamname',\n",
       " 'teamid',\n",
       " 'champion',\n",
       " 'ban1',\n",
       " 'ban2',\n",
       " 'ban3',\n",
       " 'ban4',\n",
       " 'ban5',\n",
       " 'gamelength',\n",
       " 'result',\n",
       " 'kills',\n",
       " 'deaths',\n",
       " 'assists',\n",
       " 'teamkills',\n",
       " 'teamdeaths',\n",
       " 'doublekills',\n",
       " 'triplekills',\n",
       " 'quadrakills',\n",
       " 'pentakills',\n",
       " 'firstblood',\n",
       " 'firstbloodkill',\n",
       " 'firstbloodassist',\n",
       " 'firstbloodvictim',\n",
       " 'team kpm',\n",
       " 'ckpm',\n",
       " 'firstdragon',\n",
       " 'dragons',\n",
       " 'opp_dragons',\n",
       " 'elementaldrakes',\n",
       " 'opp_elementaldrakes',\n",
       " 'infernals',\n",
       " 'mountains',\n",
       " 'clouds',\n",
       " 'oceans',\n",
       " 'chemtechs',\n",
       " 'hextechs',\n",
       " 'dragons (type unknown)',\n",
       " 'elders',\n",
       " 'opp_elders',\n",
       " 'firstherald',\n",
       " 'heralds',\n",
       " 'opp_heralds',\n",
       " 'firstbaron',\n",
       " 'barons',\n",
       " 'opp_barons',\n",
       " 'firsttower',\n",
       " 'towers',\n",
       " 'opp_towers',\n",
       " 'firstmidtower',\n",
       " 'firsttothreetowers',\n",
       " 'turretplates',\n",
       " 'opp_turretplates',\n",
       " 'inhibitors',\n",
       " 'opp_inhibitors',\n",
       " 'damagetochampions',\n",
       " 'dpm',\n",
       " 'damageshare',\n",
       " 'damagetakenperminute',\n",
       " 'damagemitigatedperminute',\n",
       " 'wardsplaced',\n",
       " 'wpm',\n",
       " 'wardskilled',\n",
       " 'wcpm',\n",
       " 'controlwardsbought',\n",
       " 'visionscore',\n",
       " 'vspm',\n",
       " 'totalgold',\n",
       " 'earnedgold',\n",
       " 'earned gpm',\n",
       " 'earnedgoldshare',\n",
       " 'goldspent',\n",
       " 'gspd',\n",
       " 'total cs',\n",
       " 'minionkills',\n",
       " 'monsterkills',\n",
       " 'monsterkillsownjungle',\n",
       " 'monsterkillsenemyjungle',\n",
       " 'cspm',\n",
       " 'goldat10',\n",
       " 'xpat10',\n",
       " 'csat10',\n",
       " 'opp_goldat10',\n",
       " 'opp_xpat10',\n",
       " 'opp_csat10',\n",
       " 'golddiffat10',\n",
       " 'xpdiffat10',\n",
       " 'csdiffat10',\n",
       " 'killsat10',\n",
       " 'assistsat10',\n",
       " 'deathsat10',\n",
       " 'opp_killsat10',\n",
       " 'opp_assistsat10',\n",
       " 'opp_deathsat10',\n",
       " 'goldat15',\n",
       " 'xpat15',\n",
       " 'csat15',\n",
       " 'opp_goldat15',\n",
       " 'opp_xpat15',\n",
       " 'opp_csat15',\n",
       " 'golddiffat15',\n",
       " 'xpdiffat15',\n",
       " 'csdiffat15',\n",
       " 'killsat15',\n",
       " 'assistsat15',\n",
       " 'deathsat15',\n",
       " 'opp_killsat15',\n",
       " 'opp_assistsat15',\n",
       " 'opp_deathsat15']"
      ]
     },
     "execution_count": 7,
     "metadata": {},
     "output_type": "execute_result"
    }
   ],
   "source": [
    "league_raw.columns.to_list()"
   ]
  },
  {
   "cell_type": "code",
   "execution_count": 21,
   "metadata": {},
   "outputs": [
    {
     "data": {
      "text/plain": [
       "'<table border=\"1\" class=\"dataframe\">\\n  <thead>\\n    <tr style=\"text-align: right;\">\\n      <th></th>\\n      <th>0</th>\\n    </tr>\\n  </thead>\\n  <tbody>\\n    <tr>\\n      <th>url</th>\\n      <td>126984</td>\\n    </tr>\\n    <tr>\\n      <th>split</th>\\n      <td>41316</td>\\n    </tr>\\n    <tr>\\n      <th>patch</th>\\n      <td>108</td>\\n    </tr>\\n    <tr>\\n      <th>playername</th>\\n      <td>24900</td>\\n    </tr>\\n    <tr>\\n      <th>playerid</th>\\n      <td>27069</td>\\n    </tr>\\n    <tr>\\n      <th>teamname</th>\\n      <td>54</td>\\n    </tr>\\n    <tr>\\n      <th>teamid</th>\\n      <td>2124</td>\\n    </tr>\\n    <tr>\\n      <th>champion</th>\\n      <td>24900</td>\\n    </tr>\\n    <tr>\\n      <th>ban1</th>\\n      <td>2334</td>\\n    </tr>\\n    <tr>\\n      <th>ban2</th>\\n      <td>2202</td>\\n    </tr>\\n    <tr>\\n      <th>ban3</th>\\n      <td>2520</td>\\n    </tr>\\n    <tr>\\n      <th>ban4</th>\\n      <td>2388</td>\\n    </tr>\\n    <tr>\\n      <th>ban5</th>\\n      <td>2712</td>\\n    </tr>\\n    <tr>\\n      <th>doublekills</th>\\n      <td>21828</td>\\n    </tr>\\n    <tr>\\n      <th>triplekills</th>\\n      <td>21828</td>\\n    </tr>\\n    <tr>\\n      <th>quadrakills</th>\\n      <td>21828</td>\\n    </tr>\\n    <tr>\\n      <th>pentakills</th>\\n      <td>21828</td>\\n    </tr>\\n    <tr>\\n      <th>firstblood</th>\\n      <td>18192</td>\\n    </tr>\\n    <tr>\\n      <th>firstbloodkill</th>\\n      <td>24910</td>\\n    </tr>\\n    <tr>\\n      <th>firstbloodassist</th>\\n      <td>43090</td>\\n    </tr>\\n    <tr>\\n      <th>firstbloodvictim</th>\\n      <td>43090</td>\\n    </tr>\\n    <tr>\\n      <th>firstdragon</th>\\n      <td>128138</td>\\n    </tr>\\n    <tr>\\n      <th>dragons</th>\\n      <td>124500</td>\\n    </tr>\\n    <tr>\\n      <th>opp_dragons</th>\\n      <td>124500</td>\\n    </tr>\\n    <tr>\\n      <th>elementaldrakes</th>\\n      <td>128226</td>\\n    </tr>\\n    <tr>\\n      <th>opp_elementaldrakes</th>\\n      <td>128226</td>\\n    </tr>\\n    <tr>\\n      <th>infernals</th>\\n      <td>128138</td>\\n    </tr>\\n    <tr>\\n      <th>mountains</th>\\n      <td>128138</td>\\n    </tr>\\n    <tr>\\n      <th>clouds</th>\\n      <td>128138</td>\\n    </tr>\\n    <tr>\\n      <th>oceans</th>\\n      <td>128138</td>\\n    </tr>\\n    <tr>\\n      <th>chemtechs</th>\\n      <td>128226</td>\\n    </tr>\\n    <tr>\\n      <th>hextechs</th>\\n      <td>128226</td>\\n    </tr>\\n    <tr>\\n      <th>dragons (type unknown)</th>\\n      <td>145108</td>\\n    </tr>\\n    <tr>\\n      <th>elders</th>\\n      <td>128138</td>\\n    </tr>\\n    <tr>\\n      <th>opp_elders</th>\\n      <td>128138</td>\\n    </tr>\\n    <tr>\\n      <th>firstherald</th>\\n      <td>128138</td>\\n    </tr>\\n    <tr>\\n      <th>heralds</th>\\n      <td>128138</td>\\n    </tr>\\n    <tr>\\n      <th>opp_heralds</th>\\n      <td>128138</td>\\n    </tr>\\n    <tr>\\n      <th>firstbaron</th>\\n      <td>128138</td>\\n    </tr>\\n    <tr>\\n      <th>barons</th>\\n      <td>21900</td>\\n    </tr>\\n    <tr>\\n      <th>opp_barons</th>\\n      <td>21900</td>\\n    </tr>\\n    <tr>\\n      <th>firsttower</th>\\n      <td>128138</td>\\n    </tr>\\n    <tr>\\n      <th>towers</th>\\n      <td>124500</td>\\n    </tr>\\n    <tr>\\n      <th>opp_towers</th>\\n      <td>124500</td>\\n    </tr>\\n    <tr>\\n      <th>firstmidtower</th>\\n      <td>128142</td>\\n    </tr>\\n    <tr>\\n      <th>firsttothreetowers</th>\\n      <td>128138</td>\\n    </tr>\\n    <tr>\\n      <th>turretplates</th>\\n      <td>128226</td>\\n    </tr>\\n    <tr>\\n      <th>opp_turretplates</th>\\n      <td>128226</td>\\n    </tr>\\n    <tr>\\n      <th>inhibitors</th>\\n      <td>21462</td>\\n    </tr>\\n    <tr>\\n      <th>opp_inhibitors</th>\\n      <td>21462</td>\\n    </tr>\\n    <tr>\\n      <th>damagetochampions</th>\\n      <td>12</td>\\n    </tr>\\n    <tr>\\n      <th>dpm</th>\\n      <td>12</td>\\n    </tr>\\n    <tr>\\n      <th>damageshare</th>\\n      <td>24910</td>\\n    </tr>\\n    <tr>\\n      <th>damagetakenperminute</th>\\n      <td>12</td>\\n    </tr>\\n    <tr>\\n      <th>damagemitigatedperminute</th>\\n      <td>21828</td>\\n    </tr>\\n    <tr>\\n      <th>wardsplaced</th>\\n      <td>12</td>\\n    </tr>\\n    <tr>\\n      <th>wpm</th>\\n      <td>12</td>\\n    </tr>\\n    <tr>\\n      <th>wardskilled</th>\\n      <td>12</td>\\n    </tr>\\n    <tr>\\n      <th>wcpm</th>\\n      <td>12</td>\\n    </tr>\\n    <tr>\\n      <th>controlwardsbought</th>\\n      <td>12</td>\\n    </tr>\\n    <tr>\\n      <th>visionscore</th>\\n      <td>12</td>\\n    </tr>\\n    <tr>\\n      <th>vspm</th>\\n      <td>12</td>\\n    </tr>\\n    <tr>\\n      <th>earnedgold</th>\\n      <td>2</td>\\n    </tr>\\n    <tr>\\n      <th>earned gpm</th>\\n      <td>2</td>\\n    </tr>\\n    <tr>\\n      <th>earnedgoldshare</th>\\n      <td>24900</td>\\n    </tr>\\n    <tr>\\n      <th>goldspent</th>\\n      <td>12</td>\\n    </tr>\\n    <tr>\\n      <th>gspd</th>\\n      <td>124502</td>\\n    </tr>\\n    <tr>\\n      <th>total cs</th>\\n      <td>24900</td>\\n    </tr>\\n    <tr>\\n      <th>minionkills</th>\\n      <td>3648</td>\\n    </tr>\\n    <tr>\\n      <th>monsterkills</th>\\n      <td>12</td>\\n    </tr>\\n    <tr>\\n      <th>monsterkillsownjungle</th>\\n      <td>127056</td>\\n    </tr>\\n    <tr>\\n      <th>monsterkillsenemyjungle</th>\\n      <td>127056</td>\\n    </tr>\\n    <tr>\\n      <th>cspm</th>\\n      <td>3638</td>\\n    </tr>\\n    <tr>\\n      <th>goldat10</th>\\n      <td>21828</td>\\n    </tr>\\n    <tr>\\n      <th>xpat10</th>\\n      <td>21828</td>\\n    </tr>\\n    <tr>\\n      <th>csat10</th>\\n      <td>21828</td>\\n    </tr>\\n    <tr>\\n      <th>opp_goldat10</th>\\n      <td>21828</td>\\n    </tr>\\n    <tr>\\n      <th>opp_xpat10</th>\\n      <td>21828</td>\\n    </tr>\\n    <tr>\\n      <th>opp_csat10</th>\\n      <td>21828</td>\\n    </tr>\\n    <tr>\\n      <th>golddiffat10</th>\\n      <td>21828</td>\\n    </tr>\\n    <tr>\\n      <th>xpdiffat10</th>\\n      <td>21828</td>\\n    </tr>\\n    <tr>\\n      <th>csdiffat10</th>\\n      <td>21828</td>\\n    </tr>\\n    <tr>\\n      <th>killsat10</th>\\n      <td>21828</td>\\n    </tr>\\n    <tr>\\n      <th>assistsat10</th>\\n      <td>21828</td>\\n    </tr>\\n    <tr>\\n      <th>deathsat10</th>\\n      <td>21828</td>\\n    </tr>\\n    <tr>\\n      <th>opp_killsat10</th>\\n      <td>21828</td>\\n    </tr>\\n    <tr>\\n      <th>opp_assistsat10</th>\\n      <td>21828</td>\\n    </tr>\\n    <tr>\\n      <th>opp_deathsat10</th>\\n      <td>21828</td>\\n    </tr>\\n    <tr>\\n      <th>goldat15</th>\\n      <td>21828</td>\\n    </tr>\\n    <tr>\\n      <th>xpat15</th>\\n      <td>21828</td>\\n    </tr>\\n    <tr>\\n      <th>csat15</th>\\n      <td>21828</td>\\n    </tr>\\n    <tr>\\n      <th>opp_goldat15</th>\\n      <td>21828</td>\\n    </tr>\\n    <tr>\\n      <th>opp_xpat15</th>\\n      <td>21828</td>\\n    </tr>\\n    <tr>\\n      <th>opp_csat15</th>\\n      <td>21828</td>\\n    </tr>\\n    <tr>\\n      <th>golddiffat15</th>\\n      <td>21828</td>\\n    </tr>\\n    <tr>\\n      <th>xpdiffat15</th>\\n      <td>21828</td>\\n    </tr>\\n    <tr>\\n      <th>csdiffat15</th>\\n      <td>21828</td>\\n    </tr>\\n    <tr>\\n      <th>killsat15</th>\\n      <td>21828</td>\\n    </tr>\\n    <tr>\\n      <th>assistsat15</th>\\n      <td>21828</td>\\n    </tr>\\n    <tr>\\n      <th>deathsat15</th>\\n      <td>21828</td>\\n    </tr>\\n    <tr>\\n      <th>opp_killsat15</th>\\n      <td>21828</td>\\n    </tr>\\n    <tr>\\n      <th>opp_assistsat15</th>\\n      <td>21828</td>\\n    </tr>\\n    <tr>\\n      <th>opp_deathsat15</th>\\n      <td>21828</td>\\n    </tr>\\n  </tbody>\\n</table>'"
      ]
     },
     "execution_count": 21,
     "metadata": {},
     "output_type": "execute_result"
    }
   ],
   "source": [
    "missing_values = league_raw.isna().sum(axis=0)\n",
    "missing_values[missing_values > 0].to_frame().to_html()"
   ]
  },
  {
   "cell_type": "code",
   "execution_count": 22,
   "metadata": {},
   "outputs": [],
   "source": [
    "league_test = league_raw.copy()\n",
    "league_test[\"ban1_missing\"] = league_test[\"ban1\"].isna()"
   ]
  },
  {
   "cell_type": "code",
   "execution_count": null,
   "metadata": {},
   "outputs": [],
   "source": []
  },
  {
   "cell_type": "code",
   "execution_count": 39,
   "metadata": {},
   "outputs": [],
   "source": [
    "def tvd(dist1: pd.Series, dist2: pd.Series):\n",
    "    dist1 = dist1 / dist1.sum() # normalize\n",
    "    dist2 = dist2 / dist2.sum()\n",
    "    return 0.5 * np.sum(np.abs(dist1 - dist2))\n",
    "\n",
    "def tvd2(df: pd.DataFrame, gb_col, col: str):\n",
    "    df.groupby(\"col\")"
   ]
  },
  {
   "cell_type": "code",
   "execution_count": 47,
   "metadata": {},
   "outputs": [
    {
     "data": {
      "text/plain": [
       "0.35992082925236696"
      ]
     },
     "execution_count": 47,
     "metadata": {},
     "output_type": "execute_result"
    }
   ],
   "source": [
    "lt_gb = league_test.groupby(\"ban1_missing\")[\"ban2\"]\n",
    "lt_gb_vc = lt_gb.value_counts()\n",
    "\n",
    "tvd(lt_gb_vc[True], lt_gb_vc[False])"
   ]
  },
  {
   "cell_type": "code",
   "execution_count": 50,
   "metadata": {},
   "outputs": [
    {
     "data": {
      "text/plain": [
       "array([0.07166055, 0.07830172, 0.08730381, 0.08058253, 0.07845274,\n",
       "       0.07094326, 0.07597582, 0.0761883 , 0.08412171, 0.07447078,\n",
       "       0.06740802, 0.08414119, 0.07866214, 0.07554668, 0.08097894,\n",
       "       0.06906338, 0.07459523, 0.07552102, 0.07596512, 0.07549603,\n",
       "       0.07568128, 0.06839647, 0.08947518, 0.08900352, 0.08024738,\n",
       "       0.0802104 , 0.07755819, 0.07236317, 0.07582941, 0.08189889,\n",
       "       0.06303442, 0.0898507 , 0.06947786, 0.0788992 , 0.07539841,\n",
       "       0.06954632, 0.08442251, 0.07816316, 0.08247678, 0.070596  ,\n",
       "       0.07791224, 0.08571708, 0.07361935, 0.07037079, 0.08733109,\n",
       "       0.07475401, 0.0784057 , 0.08031053, 0.07740424, 0.08681113,\n",
       "       0.07659932, 0.07558076, 0.06829669, 0.0827546 , 0.07069092,\n",
       "       0.07976446, 0.07989671, 0.07275217, 0.09719434, 0.06733284,\n",
       "       0.07076266, 0.07250638, 0.0736366 , 0.07832212, 0.08297503,\n",
       "       0.06576771, 0.08352588, 0.07922453, 0.07365809, 0.07697773,\n",
       "       0.06300961, 0.08256421, 0.07495533, 0.0742709 , 0.07742066,\n",
       "       0.07290627, 0.07229784, 0.07481659, 0.07824571, 0.07862561,\n",
       "       0.07409867, 0.07850435, 0.0683259 , 0.0711518 , 0.07814646,\n",
       "       0.06940522, 0.07627602, 0.07107297, 0.07689127, 0.08755735,\n",
       "       0.07990243, 0.06947057, 0.06196901, 0.07696335, 0.07449427,\n",
       "       0.09296914, 0.08373994, 0.06864671, 0.07130941, 0.07777729])"
      ]
     },
     "execution_count": 50,
     "metadata": {},
     "output_type": "execute_result"
    }
   ],
   "source": [
    "def permutation_test(df: pd.DataFrame, col_tf: str, col_i: str):\n",
    "    df = df.copy()\n",
    "    \n",
    "    test_stats = []\n",
    "    for _ in range(100):\n",
    "        df[col_tf] = np.random.permutation(df[col_tf])\n",
    "        df_gb = df.groupby(col_tf)[col_i].value_counts()\n",
    "        test_stats.append(tvd(df_gb[True], df_gb[False]))\n",
    "        \n",
    "    return np.array(test_stats)\n",
    "\n",
    "permutation_test(league_test, \"ban1_missing\", \"ban2\")"
   ]
  },
  {
   "cell_type": "code",
   "execution_count": null,
   "metadata": {},
   "outputs": [],
   "source": []
  },
  {
   "cell_type": "code",
   "execution_count": 32,
   "metadata": {},
   "outputs": [
    {
     "data": {
      "text/plain": [
       "Draven          18\n",
       "Aatrox          12\n",
       "Renata Glasc    12\n",
       "Azir            12\n",
       "Senna            6\n",
       "Ahri             6\n",
       "Aphelios         6\n",
       "Riven            6\n",
       "Sejuani          6\n",
       "Amumu            6\n",
       "Akali            6\n",
       "Vayne            6\n",
       "Taliyah          6\n",
       "Ornn             6\n",
       "Caitlyn          6\n",
       "Teemo            6\n",
       "Renekton         6\n",
       "Volibear         6\n",
       "Ezreal           6\n",
       "Lillia           6\n",
       "Poppy            6\n",
       "Syndra           6\n",
       "Hecarim          6\n",
       "Yone             6\n",
       "Name: ban2, dtype: int64"
      ]
     },
     "execution_count": 32,
     "metadata": {},
     "output_type": "execute_result"
    }
   ],
   "source": [
    "league_test.loc[\n",
    "    league_test[\"ban1_missing\"] == True,\n",
    "    \"ban2\"\n",
    "].value_counts()"
   ]
  },
  {
   "cell_type": "code",
   "execution_count": 25,
   "metadata": {},
   "outputs": [
    {
     "ename": "TypeError",
     "evalue": "can only concatenate str (not \"int\") to str",
     "output_type": "error",
     "traceback": [
      "\u001b[0;31m---------------------------------------------------------------------------\u001b[0m",
      "\u001b[0;31mNotImplementedError\u001b[0m                       Traceback (most recent call last)",
      "File \u001b[0;32m~/.pyenv/versions/3.8.16/envs/dsc80_39/lib/python3.8/site-packages/pandas/core/groupby/generic.py:340\u001b[0m, in \u001b[0;36mSeriesGroupBy._cython_agg_general.<locals>.array_func\u001b[0;34m(values)\u001b[0m\n\u001b[1;32m    339\u001b[0m \u001b[39mtry\u001b[39;00m:\n\u001b[0;32m--> 340\u001b[0m     result \u001b[39m=\u001b[39m \u001b[39mself\u001b[39;49m\u001b[39m.\u001b[39;49mgrouper\u001b[39m.\u001b[39;49m_cython_operation(\n\u001b[1;32m    341\u001b[0m         \u001b[39m\"\u001b[39;49m\u001b[39maggregate\u001b[39;49m\u001b[39m\"\u001b[39;49m, values, how, axis\u001b[39m=\u001b[39;49mdata\u001b[39m.\u001b[39;49mndim \u001b[39m-\u001b[39;49m \u001b[39m1\u001b[39;49m, min_count\u001b[39m=\u001b[39;49mmin_count\n\u001b[1;32m    342\u001b[0m     )\n\u001b[1;32m    343\u001b[0m \u001b[39mexcept\u001b[39;00m \u001b[39mNotImplementedError\u001b[39;00m:\n\u001b[1;32m    344\u001b[0m     \u001b[39m# generally if we have numeric_only=False\u001b[39;00m\n\u001b[1;32m    345\u001b[0m     \u001b[39m# and non-applicable functions\u001b[39;00m\n\u001b[1;32m    346\u001b[0m     \u001b[39m# try to python agg\u001b[39;00m\n\u001b[1;32m    347\u001b[0m     \u001b[39m# TODO: shouldn't min_count matter?\u001b[39;00m\n",
      "File \u001b[0;32m~/.pyenv/versions/3.8.16/envs/dsc80_39/lib/python3.8/site-packages/pandas/core/groupby/ops.py:978\u001b[0m, in \u001b[0;36mBaseGrouper._cython_operation\u001b[0;34m(self, kind, values, how, axis, min_count, **kwargs)\u001b[0m\n\u001b[1;32m    977\u001b[0m ngroups \u001b[39m=\u001b[39m \u001b[39mself\u001b[39m\u001b[39m.\u001b[39mngroups\n\u001b[0;32m--> 978\u001b[0m \u001b[39mreturn\u001b[39;00m cy_op\u001b[39m.\u001b[39;49mcython_operation(\n\u001b[1;32m    979\u001b[0m     values\u001b[39m=\u001b[39;49mvalues,\n\u001b[1;32m    980\u001b[0m     axis\u001b[39m=\u001b[39;49maxis,\n\u001b[1;32m    981\u001b[0m     min_count\u001b[39m=\u001b[39;49mmin_count,\n\u001b[1;32m    982\u001b[0m     comp_ids\u001b[39m=\u001b[39;49mids,\n\u001b[1;32m    983\u001b[0m     ngroups\u001b[39m=\u001b[39;49mngroups,\n\u001b[1;32m    984\u001b[0m     \u001b[39m*\u001b[39;49m\u001b[39m*\u001b[39;49mkwargs,\n\u001b[1;32m    985\u001b[0m )\n",
      "File \u001b[0;32m~/.pyenv/versions/3.8.16/envs/dsc80_39/lib/python3.8/site-packages/pandas/core/groupby/ops.py:639\u001b[0m, in \u001b[0;36mWrappedCythonOp.cython_operation\u001b[0;34m(self, values, axis, min_count, comp_ids, ngroups, **kwargs)\u001b[0m\n\u001b[1;32m    631\u001b[0m     \u001b[39mreturn\u001b[39;00m \u001b[39mself\u001b[39m\u001b[39m.\u001b[39m_ea_wrap_cython_operation(\n\u001b[1;32m    632\u001b[0m         values,\n\u001b[1;32m    633\u001b[0m         min_count\u001b[39m=\u001b[39mmin_count,\n\u001b[0;32m   (...)\u001b[0m\n\u001b[1;32m    636\u001b[0m         \u001b[39m*\u001b[39m\u001b[39m*\u001b[39mkwargs,\n\u001b[1;32m    637\u001b[0m     )\n\u001b[0;32m--> 639\u001b[0m \u001b[39mreturn\u001b[39;00m \u001b[39mself\u001b[39;49m\u001b[39m.\u001b[39;49m_cython_op_ndim_compat(\n\u001b[1;32m    640\u001b[0m     values,\n\u001b[1;32m    641\u001b[0m     min_count\u001b[39m=\u001b[39;49mmin_count,\n\u001b[1;32m    642\u001b[0m     ngroups\u001b[39m=\u001b[39;49mngroups,\n\u001b[1;32m    643\u001b[0m     comp_ids\u001b[39m=\u001b[39;49mcomp_ids,\n\u001b[1;32m    644\u001b[0m     mask\u001b[39m=\u001b[39;49m\u001b[39mNone\u001b[39;49;00m,\n\u001b[1;32m    645\u001b[0m     \u001b[39m*\u001b[39;49m\u001b[39m*\u001b[39;49mkwargs,\n\u001b[1;32m    646\u001b[0m )\n",
      "File \u001b[0;32m~/.pyenv/versions/3.8.16/envs/dsc80_39/lib/python3.8/site-packages/pandas/core/groupby/ops.py:481\u001b[0m, in \u001b[0;36mWrappedCythonOp._cython_op_ndim_compat\u001b[0;34m(self, values, min_count, ngroups, comp_ids, mask, **kwargs)\u001b[0m\n\u001b[1;32m    480\u001b[0m values2d \u001b[39m=\u001b[39m values[\u001b[39mNone\u001b[39;00m, :]\n\u001b[0;32m--> 481\u001b[0m res \u001b[39m=\u001b[39m \u001b[39mself\u001b[39;49m\u001b[39m.\u001b[39;49m_call_cython_op(\n\u001b[1;32m    482\u001b[0m     values2d,\n\u001b[1;32m    483\u001b[0m     min_count\u001b[39m=\u001b[39;49mmin_count,\n\u001b[1;32m    484\u001b[0m     ngroups\u001b[39m=\u001b[39;49mngroups,\n\u001b[1;32m    485\u001b[0m     comp_ids\u001b[39m=\u001b[39;49mcomp_ids,\n\u001b[1;32m    486\u001b[0m     mask\u001b[39m=\u001b[39;49mmask,\n\u001b[1;32m    487\u001b[0m     \u001b[39m*\u001b[39;49m\u001b[39m*\u001b[39;49mkwargs,\n\u001b[1;32m    488\u001b[0m )\n\u001b[1;32m    489\u001b[0m \u001b[39mif\u001b[39;00m res\u001b[39m.\u001b[39mshape[\u001b[39m0\u001b[39m] \u001b[39m==\u001b[39m \u001b[39m1\u001b[39m:\n",
      "File \u001b[0;32m~/.pyenv/versions/3.8.16/envs/dsc80_39/lib/python3.8/site-packages/pandas/core/groupby/ops.py:541\u001b[0m, in \u001b[0;36mWrappedCythonOp._call_cython_op\u001b[0;34m(self, values, min_count, ngroups, comp_ids, mask, **kwargs)\u001b[0m\n\u001b[1;32m    540\u001b[0m out_shape \u001b[39m=\u001b[39m \u001b[39mself\u001b[39m\u001b[39m.\u001b[39m_get_output_shape(ngroups, values)\n\u001b[0;32m--> 541\u001b[0m func, values \u001b[39m=\u001b[39m \u001b[39mself\u001b[39;49m\u001b[39m.\u001b[39;49mget_cython_func_and_vals(values, is_numeric)\n\u001b[1;32m    542\u001b[0m out_dtype \u001b[39m=\u001b[39m \u001b[39mself\u001b[39m\u001b[39m.\u001b[39mget_out_dtype(values\u001b[39m.\u001b[39mdtype)\n",
      "File \u001b[0;32m~/.pyenv/versions/3.8.16/envs/dsc80_39/lib/python3.8/site-packages/pandas/core/groupby/ops.py:204\u001b[0m, in \u001b[0;36mWrappedCythonOp.get_cython_func_and_vals\u001b[0;34m(self, values, is_numeric)\u001b[0m\n\u001b[1;32m    202\u001b[0m     \u001b[39mreturn\u001b[39;00m func, values\n\u001b[0;32m--> 204\u001b[0m func \u001b[39m=\u001b[39m \u001b[39mself\u001b[39;49m\u001b[39m.\u001b[39;49m_get_cython_function(kind, how, values\u001b[39m.\u001b[39;49mdtype, is_numeric)\n\u001b[1;32m    206\u001b[0m \u001b[39mif\u001b[39;00m values\u001b[39m.\u001b[39mdtype\u001b[39m.\u001b[39mkind \u001b[39min\u001b[39;00m [\u001b[39m\"\u001b[39m\u001b[39mi\u001b[39m\u001b[39m\"\u001b[39m, \u001b[39m\"\u001b[39m\u001b[39mu\u001b[39m\u001b[39m\"\u001b[39m]:\n",
      "File \u001b[0;32m~/.pyenv/versions/3.8.16/envs/dsc80_39/lib/python3.8/site-packages/pandas/core/groupby/ops.py:169\u001b[0m, in \u001b[0;36mWrappedCythonOp._get_cython_function\u001b[0;34m(cls, kind, how, dtype, is_numeric)\u001b[0m\n\u001b[1;32m    167\u001b[0m \u001b[39mif\u001b[39;00m \u001b[39m\"\u001b[39m\u001b[39mobject\u001b[39m\u001b[39m\"\u001b[39m \u001b[39mnot\u001b[39;00m \u001b[39min\u001b[39;00m f\u001b[39m.\u001b[39m__signatures__:\n\u001b[1;32m    168\u001b[0m     \u001b[39m# raise NotImplementedError here rather than TypeError later\u001b[39;00m\n\u001b[0;32m--> 169\u001b[0m     \u001b[39mraise\u001b[39;00m \u001b[39mNotImplementedError\u001b[39;00m(\n\u001b[1;32m    170\u001b[0m         \u001b[39mf\u001b[39m\u001b[39m\"\u001b[39m\u001b[39mfunction is not implemented for this dtype: \u001b[39m\u001b[39m\"\u001b[39m\n\u001b[1;32m    171\u001b[0m         \u001b[39mf\u001b[39m\u001b[39m\"\u001b[39m\u001b[39m[how->\u001b[39m\u001b[39m{\u001b[39;00mhow\u001b[39m}\u001b[39;00m\u001b[39m,dtype->\u001b[39m\u001b[39m{\u001b[39;00mdtype_str\u001b[39m}\u001b[39;00m\u001b[39m]\u001b[39m\u001b[39m\"\u001b[39m\n\u001b[1;32m    172\u001b[0m     )\n\u001b[1;32m    173\u001b[0m \u001b[39mreturn\u001b[39;00m f\n",
      "\u001b[0;31mNotImplementedError\u001b[0m: function is not implemented for this dtype: [how->mean,dtype->object]",
      "\nDuring handling of the above exception, another exception occurred:\n",
      "\u001b[0;31mTypeError\u001b[0m                                 Traceback (most recent call last)",
      "Cell \u001b[0;32mIn[25], line 1\u001b[0m\n\u001b[0;32m----> 1\u001b[0m league_test\u001b[39m.\u001b[39;49mgroupby(\u001b[39m\"\u001b[39;49m\u001b[39mban1_missing\u001b[39;49m\u001b[39m\"\u001b[39;49m)[\u001b[39m\"\u001b[39;49m\u001b[39mban2\u001b[39;49m\u001b[39m\"\u001b[39;49m]\u001b[39m.\u001b[39;49mmean()\n",
      "File \u001b[0;32m~/.pyenv/versions/3.8.16/envs/dsc80_39/lib/python3.8/site-packages/pandas/core/groupby/groupby.py:1684\u001b[0m, in \u001b[0;36mGroupBy.mean\u001b[0;34m(self, numeric_only)\u001b[0m\n\u001b[1;32m   1635\u001b[0m \u001b[39m\u001b[39m\u001b[39m\"\"\"\u001b[39;00m\n\u001b[1;32m   1636\u001b[0m \u001b[39mCompute mean of groups, excluding missing values.\u001b[39;00m\n\u001b[1;32m   1637\u001b[0m \n\u001b[0;32m   (...)\u001b[0m\n\u001b[1;32m   1680\u001b[0m \u001b[39mName: B, dtype: float64\u001b[39;00m\n\u001b[1;32m   1681\u001b[0m \u001b[39m\"\"\"\u001b[39;00m\n\u001b[1;32m   1682\u001b[0m numeric_only \u001b[39m=\u001b[39m \u001b[39mself\u001b[39m\u001b[39m.\u001b[39m_resolve_numeric_only(numeric_only)\n\u001b[0;32m-> 1684\u001b[0m result \u001b[39m=\u001b[39m \u001b[39mself\u001b[39;49m\u001b[39m.\u001b[39;49m_cython_agg_general(\n\u001b[1;32m   1685\u001b[0m     \u001b[39m\"\u001b[39;49m\u001b[39mmean\u001b[39;49m\u001b[39m\"\u001b[39;49m,\n\u001b[1;32m   1686\u001b[0m     alt\u001b[39m=\u001b[39;49m\u001b[39mlambda\u001b[39;49;00m x: Series(x)\u001b[39m.\u001b[39;49mmean(numeric_only\u001b[39m=\u001b[39;49mnumeric_only),\n\u001b[1;32m   1687\u001b[0m     numeric_only\u001b[39m=\u001b[39;49mnumeric_only,\n\u001b[1;32m   1688\u001b[0m )\n\u001b[1;32m   1689\u001b[0m \u001b[39mreturn\u001b[39;00m result\u001b[39m.\u001b[39m__finalize__(\u001b[39mself\u001b[39m\u001b[39m.\u001b[39mobj, method\u001b[39m=\u001b[39m\u001b[39m\"\u001b[39m\u001b[39mgroupby\u001b[39m\u001b[39m\"\u001b[39m)\n",
      "File \u001b[0;32m~/.pyenv/versions/3.8.16/envs/dsc80_39/lib/python3.8/site-packages/pandas/core/groupby/generic.py:352\u001b[0m, in \u001b[0;36mSeriesGroupBy._cython_agg_general\u001b[0;34m(self, how, alt, numeric_only, min_count)\u001b[0m\n\u001b[1;32m    348\u001b[0m         result \u001b[39m=\u001b[39m \u001b[39mself\u001b[39m\u001b[39m.\u001b[39m_agg_py_fallback(values, ndim\u001b[39m=\u001b[39mdata\u001b[39m.\u001b[39mndim, alt\u001b[39m=\u001b[39malt)\n\u001b[1;32m    350\u001b[0m     \u001b[39mreturn\u001b[39;00m result\n\u001b[0;32m--> 352\u001b[0m result \u001b[39m=\u001b[39m array_func(objvals)\n\u001b[1;32m    354\u001b[0m ser \u001b[39m=\u001b[39m \u001b[39mself\u001b[39m\u001b[39m.\u001b[39mobj\u001b[39m.\u001b[39m_constructor(\n\u001b[1;32m    355\u001b[0m     result, index\u001b[39m=\u001b[39m\u001b[39mself\u001b[39m\u001b[39m.\u001b[39mgrouper\u001b[39m.\u001b[39mresult_index, name\u001b[39m=\u001b[39mobj\u001b[39m.\u001b[39mname\n\u001b[1;32m    356\u001b[0m )\n\u001b[1;32m    357\u001b[0m \u001b[39mreturn\u001b[39;00m \u001b[39mself\u001b[39m\u001b[39m.\u001b[39m_reindex_output(ser)\n",
      "File \u001b[0;32m~/.pyenv/versions/3.8.16/envs/dsc80_39/lib/python3.8/site-packages/pandas/core/groupby/generic.py:348\u001b[0m, in \u001b[0;36mSeriesGroupBy._cython_agg_general.<locals>.array_func\u001b[0;34m(values)\u001b[0m\n\u001b[1;32m    340\u001b[0m     result \u001b[39m=\u001b[39m \u001b[39mself\u001b[39m\u001b[39m.\u001b[39mgrouper\u001b[39m.\u001b[39m_cython_operation(\n\u001b[1;32m    341\u001b[0m         \u001b[39m\"\u001b[39m\u001b[39maggregate\u001b[39m\u001b[39m\"\u001b[39m, values, how, axis\u001b[39m=\u001b[39mdata\u001b[39m.\u001b[39mndim \u001b[39m-\u001b[39m \u001b[39m1\u001b[39m, min_count\u001b[39m=\u001b[39mmin_count\n\u001b[1;32m    342\u001b[0m     )\n\u001b[1;32m    343\u001b[0m \u001b[39mexcept\u001b[39;00m \u001b[39mNotImplementedError\u001b[39;00m:\n\u001b[1;32m    344\u001b[0m     \u001b[39m# generally if we have numeric_only=False\u001b[39;00m\n\u001b[1;32m    345\u001b[0m     \u001b[39m# and non-applicable functions\u001b[39;00m\n\u001b[1;32m    346\u001b[0m     \u001b[39m# try to python agg\u001b[39;00m\n\u001b[1;32m    347\u001b[0m     \u001b[39m# TODO: shouldn't min_count matter?\u001b[39;00m\n\u001b[0;32m--> 348\u001b[0m     result \u001b[39m=\u001b[39m \u001b[39mself\u001b[39;49m\u001b[39m.\u001b[39;49m_agg_py_fallback(values, ndim\u001b[39m=\u001b[39;49mdata\u001b[39m.\u001b[39;49mndim, alt\u001b[39m=\u001b[39;49malt)\n\u001b[1;32m    350\u001b[0m \u001b[39mreturn\u001b[39;00m result\n",
      "File \u001b[0;32m~/.pyenv/versions/3.8.16/envs/dsc80_39/lib/python3.8/site-packages/pandas/core/groupby/groupby.py:1395\u001b[0m, in \u001b[0;36mGroupBy._agg_py_fallback\u001b[0;34m(self, values, ndim, alt)\u001b[0m\n\u001b[1;32m   1390\u001b[0m     ser \u001b[39m=\u001b[39m df\u001b[39m.\u001b[39miloc[:, \u001b[39m0\u001b[39m]\n\u001b[1;32m   1392\u001b[0m \u001b[39m# We do not get here with UDFs, so we know that our dtype\u001b[39;00m\n\u001b[1;32m   1393\u001b[0m \u001b[39m#  should always be preserved by the implemented aggregations\u001b[39;00m\n\u001b[1;32m   1394\u001b[0m \u001b[39m# TODO: Is this exactly right; see WrappedCythonOp get_result_dtype?\u001b[39;00m\n\u001b[0;32m-> 1395\u001b[0m res_values \u001b[39m=\u001b[39m \u001b[39mself\u001b[39;49m\u001b[39m.\u001b[39;49mgrouper\u001b[39m.\u001b[39;49magg_series(ser, alt, preserve_dtype\u001b[39m=\u001b[39;49m\u001b[39mTrue\u001b[39;49;00m)\n\u001b[1;32m   1397\u001b[0m \u001b[39mif\u001b[39;00m \u001b[39misinstance\u001b[39m(values, Categorical):\n\u001b[1;32m   1398\u001b[0m     \u001b[39m# Because we only get here with known dtype-preserving\u001b[39;00m\n\u001b[1;32m   1399\u001b[0m     \u001b[39m#  reductions, we cast back to Categorical.\u001b[39;00m\n\u001b[1;32m   1400\u001b[0m     \u001b[39m# TODO: if we ever get \"rank\" working, exclude it here.\u001b[39;00m\n\u001b[1;32m   1401\u001b[0m     res_values \u001b[39m=\u001b[39m \u001b[39mtype\u001b[39m(values)\u001b[39m.\u001b[39m_from_sequence(res_values, dtype\u001b[39m=\u001b[39mvalues\u001b[39m.\u001b[39mdtype)\n",
      "File \u001b[0;32m~/.pyenv/versions/3.8.16/envs/dsc80_39/lib/python3.8/site-packages/pandas/core/groupby/ops.py:1028\u001b[0m, in \u001b[0;36mBaseGrouper.agg_series\u001b[0;34m(self, obj, func, preserve_dtype)\u001b[0m\n\u001b[1;32m   1025\u001b[0m     result \u001b[39m=\u001b[39m \u001b[39mself\u001b[39m\u001b[39m.\u001b[39m_aggregate_series_pure_python(obj, func)\n\u001b[1;32m   1027\u001b[0m \u001b[39melse\u001b[39;00m:\n\u001b[0;32m-> 1028\u001b[0m     result \u001b[39m=\u001b[39m \u001b[39mself\u001b[39;49m\u001b[39m.\u001b[39;49m_aggregate_series_fast(obj, func)\n\u001b[1;32m   1030\u001b[0m npvalues \u001b[39m=\u001b[39m lib\u001b[39m.\u001b[39mmaybe_convert_objects(result, try_float\u001b[39m=\u001b[39m\u001b[39mFalse\u001b[39;00m)\n\u001b[1;32m   1031\u001b[0m \u001b[39mif\u001b[39;00m preserve_dtype:\n",
      "File \u001b[0;32m~/.pyenv/versions/3.8.16/envs/dsc80_39/lib/python3.8/site-packages/pandas/core/groupby/ops.py:1053\u001b[0m, in \u001b[0;36mBaseGrouper._aggregate_series_fast\u001b[0;34m(self, obj, func)\u001b[0m\n\u001b[1;32m   1051\u001b[0m ids \u001b[39m=\u001b[39m ids\u001b[39m.\u001b[39mtake(indexer)\n\u001b[1;32m   1052\u001b[0m sgrouper \u001b[39m=\u001b[39m libreduction\u001b[39m.\u001b[39mSeriesGrouper(obj, func, ids, ngroups)\n\u001b[0;32m-> 1053\u001b[0m result, _ \u001b[39m=\u001b[39m sgrouper\u001b[39m.\u001b[39;49mget_result()\n\u001b[1;32m   1054\u001b[0m \u001b[39mreturn\u001b[39;00m result\n",
      "File \u001b[0;32m~/.pyenv/versions/3.8.16/envs/dsc80_39/lib/python3.8/site-packages/pandas/_libs/reduction.pyx:281\u001b[0m, in \u001b[0;36mpandas._libs.reduction.SeriesGrouper.get_result\u001b[0;34m()\u001b[0m\n",
      "File \u001b[0;32m~/.pyenv/versions/3.8.16/envs/dsc80_39/lib/python3.8/site-packages/pandas/_libs/reduction.pyx:88\u001b[0m, in \u001b[0;36mpandas._libs.reduction._BaseGrouper._apply_to_group\u001b[0;34m()\u001b[0m\n",
      "File \u001b[0;32m~/.pyenv/versions/3.8.16/envs/dsc80_39/lib/python3.8/site-packages/pandas/core/groupby/groupby.py:1686\u001b[0m, in \u001b[0;36mGroupBy.mean.<locals>.<lambda>\u001b[0;34m(x)\u001b[0m\n\u001b[1;32m   1635\u001b[0m \u001b[39m\u001b[39m\u001b[39m\"\"\"\u001b[39;00m\n\u001b[1;32m   1636\u001b[0m \u001b[39mCompute mean of groups, excluding missing values.\u001b[39;00m\n\u001b[1;32m   1637\u001b[0m \n\u001b[0;32m   (...)\u001b[0m\n\u001b[1;32m   1680\u001b[0m \u001b[39mName: B, dtype: float64\u001b[39;00m\n\u001b[1;32m   1681\u001b[0m \u001b[39m\"\"\"\u001b[39;00m\n\u001b[1;32m   1682\u001b[0m numeric_only \u001b[39m=\u001b[39m \u001b[39mself\u001b[39m\u001b[39m.\u001b[39m_resolve_numeric_only(numeric_only)\n\u001b[1;32m   1684\u001b[0m result \u001b[39m=\u001b[39m \u001b[39mself\u001b[39m\u001b[39m.\u001b[39m_cython_agg_general(\n\u001b[1;32m   1685\u001b[0m     \u001b[39m\"\u001b[39m\u001b[39mmean\u001b[39m\u001b[39m\"\u001b[39m,\n\u001b[0;32m-> 1686\u001b[0m     alt\u001b[39m=\u001b[39m\u001b[39mlambda\u001b[39;00m x: Series(x)\u001b[39m.\u001b[39;49mmean(numeric_only\u001b[39m=\u001b[39;49mnumeric_only),\n\u001b[1;32m   1687\u001b[0m     numeric_only\u001b[39m=\u001b[39mnumeric_only,\n\u001b[1;32m   1688\u001b[0m )\n\u001b[1;32m   1689\u001b[0m \u001b[39mreturn\u001b[39;00m result\u001b[39m.\u001b[39m__finalize__(\u001b[39mself\u001b[39m\u001b[39m.\u001b[39mobj, method\u001b[39m=\u001b[39m\u001b[39m\"\u001b[39m\u001b[39mgroupby\u001b[39m\u001b[39m\"\u001b[39m)\n",
      "File \u001b[0;32m~/.pyenv/versions/3.8.16/envs/dsc80_39/lib/python3.8/site-packages/pandas/core/generic.py:10751\u001b[0m, in \u001b[0;36mNDFrame._add_numeric_operations.<locals>.mean\u001b[0;34m(self, axis, skipna, level, numeric_only, **kwargs)\u001b[0m\n\u001b[1;32m  10740\u001b[0m \u001b[39m@doc\u001b[39m(\n\u001b[1;32m  10741\u001b[0m     _num_doc,\n\u001b[1;32m  10742\u001b[0m     desc\u001b[39m=\u001b[39m\u001b[39m\"\u001b[39m\u001b[39mReturn the mean of the values over the requested axis.\u001b[39m\u001b[39m\"\u001b[39m,\n\u001b[0;32m   (...)\u001b[0m\n\u001b[1;32m  10749\u001b[0m )\n\u001b[1;32m  10750\u001b[0m \u001b[39mdef\u001b[39;00m \u001b[39mmean\u001b[39m(\u001b[39mself\u001b[39m, axis\u001b[39m=\u001b[39m\u001b[39mNone\u001b[39;00m, skipna\u001b[39m=\u001b[39m\u001b[39mNone\u001b[39;00m, level\u001b[39m=\u001b[39m\u001b[39mNone\u001b[39;00m, numeric_only\u001b[39m=\u001b[39m\u001b[39mNone\u001b[39;00m, \u001b[39m*\u001b[39m\u001b[39m*\u001b[39mkwargs):\n\u001b[0;32m> 10751\u001b[0m     \u001b[39mreturn\u001b[39;00m NDFrame\u001b[39m.\u001b[39;49mmean(\u001b[39mself\u001b[39;49m, axis, skipna, level, numeric_only, \u001b[39m*\u001b[39;49m\u001b[39m*\u001b[39;49mkwargs)\n",
      "File \u001b[0;32m~/.pyenv/versions/3.8.16/envs/dsc80_39/lib/python3.8/site-packages/pandas/core/generic.py:10369\u001b[0m, in \u001b[0;36mNDFrame.mean\u001b[0;34m(self, axis, skipna, level, numeric_only, **kwargs)\u001b[0m\n\u001b[1;32m  10368\u001b[0m \u001b[39mdef\u001b[39;00m \u001b[39mmean\u001b[39m(\u001b[39mself\u001b[39m, axis\u001b[39m=\u001b[39m\u001b[39mNone\u001b[39;00m, skipna\u001b[39m=\u001b[39m\u001b[39mNone\u001b[39;00m, level\u001b[39m=\u001b[39m\u001b[39mNone\u001b[39;00m, numeric_only\u001b[39m=\u001b[39m\u001b[39mNone\u001b[39;00m, \u001b[39m*\u001b[39m\u001b[39m*\u001b[39mkwargs):\n\u001b[0;32m> 10369\u001b[0m     \u001b[39mreturn\u001b[39;00m \u001b[39mself\u001b[39;49m\u001b[39m.\u001b[39;49m_stat_function(\n\u001b[1;32m  10370\u001b[0m         \u001b[39m\"\u001b[39;49m\u001b[39mmean\u001b[39;49m\u001b[39m\"\u001b[39;49m, nanops\u001b[39m.\u001b[39;49mnanmean, axis, skipna, level, numeric_only, \u001b[39m*\u001b[39;49m\u001b[39m*\u001b[39;49mkwargs\n\u001b[1;32m  10371\u001b[0m     )\n",
      "File \u001b[0;32m~/.pyenv/versions/3.8.16/envs/dsc80_39/lib/python3.8/site-packages/pandas/core/generic.py:10354\u001b[0m, in \u001b[0;36mNDFrame._stat_function\u001b[0;34m(self, name, func, axis, skipna, level, numeric_only, **kwargs)\u001b[0m\n\u001b[1;32m  10344\u001b[0m     warnings\u001b[39m.\u001b[39mwarn(\n\u001b[1;32m  10345\u001b[0m         \u001b[39m\"\u001b[39m\u001b[39mUsing the level keyword in DataFrame and Series aggregations is \u001b[39m\u001b[39m\"\u001b[39m\n\u001b[1;32m  10346\u001b[0m         \u001b[39m\"\u001b[39m\u001b[39mdeprecated and will be removed in a future version. Use groupby \u001b[39m\u001b[39m\"\u001b[39m\n\u001b[0;32m   (...)\u001b[0m\n\u001b[1;32m  10349\u001b[0m         stacklevel\u001b[39m=\u001b[39m\u001b[39m4\u001b[39m,\n\u001b[1;32m  10350\u001b[0m     )\n\u001b[1;32m  10351\u001b[0m     \u001b[39mreturn\u001b[39;00m \u001b[39mself\u001b[39m\u001b[39m.\u001b[39m_agg_by_level(\n\u001b[1;32m  10352\u001b[0m         name, axis\u001b[39m=\u001b[39maxis, level\u001b[39m=\u001b[39mlevel, skipna\u001b[39m=\u001b[39mskipna, numeric_only\u001b[39m=\u001b[39mnumeric_only\n\u001b[1;32m  10353\u001b[0m     )\n\u001b[0;32m> 10354\u001b[0m \u001b[39mreturn\u001b[39;00m \u001b[39mself\u001b[39;49m\u001b[39m.\u001b[39;49m_reduce(\n\u001b[1;32m  10355\u001b[0m     func, name\u001b[39m=\u001b[39;49mname, axis\u001b[39m=\u001b[39;49maxis, skipna\u001b[39m=\u001b[39;49mskipna, numeric_only\u001b[39m=\u001b[39;49mnumeric_only\n\u001b[1;32m  10356\u001b[0m )\n",
      "File \u001b[0;32m~/.pyenv/versions/3.8.16/envs/dsc80_39/lib/python3.8/site-packages/pandas/core/series.py:4392\u001b[0m, in \u001b[0;36mSeries._reduce\u001b[0;34m(self, op, name, axis, skipna, numeric_only, filter_type, **kwds)\u001b[0m\n\u001b[1;32m   4388\u001b[0m     \u001b[39mraise\u001b[39;00m \u001b[39mNotImplementedError\u001b[39;00m(\n\u001b[1;32m   4389\u001b[0m         \u001b[39mf\u001b[39m\u001b[39m\"\u001b[39m\u001b[39mSeries.\u001b[39m\u001b[39m{\u001b[39;00mname\u001b[39m}\u001b[39;00m\u001b[39m does not implement numeric_only.\u001b[39m\u001b[39m\"\u001b[39m\n\u001b[1;32m   4390\u001b[0m     )\n\u001b[1;32m   4391\u001b[0m \u001b[39mwith\u001b[39;00m np\u001b[39m.\u001b[39merrstate(\u001b[39mall\u001b[39m\u001b[39m=\u001b[39m\u001b[39m\"\u001b[39m\u001b[39mignore\u001b[39m\u001b[39m\"\u001b[39m):\n\u001b[0;32m-> 4392\u001b[0m     \u001b[39mreturn\u001b[39;00m op(delegate, skipna\u001b[39m=\u001b[39;49mskipna, \u001b[39m*\u001b[39;49m\u001b[39m*\u001b[39;49mkwds)\n",
      "File \u001b[0;32m~/.pyenv/versions/3.8.16/envs/dsc80_39/lib/python3.8/site-packages/pandas/core/nanops.py:93\u001b[0m, in \u001b[0;36mdisallow.__call__.<locals>._f\u001b[0;34m(*args, **kwargs)\u001b[0m\n\u001b[1;32m     91\u001b[0m \u001b[39mtry\u001b[39;00m:\n\u001b[1;32m     92\u001b[0m     \u001b[39mwith\u001b[39;00m np\u001b[39m.\u001b[39merrstate(invalid\u001b[39m=\u001b[39m\u001b[39m\"\u001b[39m\u001b[39mignore\u001b[39m\u001b[39m\"\u001b[39m):\n\u001b[0;32m---> 93\u001b[0m         \u001b[39mreturn\u001b[39;00m f(\u001b[39m*\u001b[39;49margs, \u001b[39m*\u001b[39;49m\u001b[39m*\u001b[39;49mkwargs)\n\u001b[1;32m     94\u001b[0m \u001b[39mexcept\u001b[39;00m \u001b[39mValueError\u001b[39;00m \u001b[39mas\u001b[39;00m e:\n\u001b[1;32m     95\u001b[0m     \u001b[39m# we want to transform an object array\u001b[39;00m\n\u001b[1;32m     96\u001b[0m     \u001b[39m# ValueError message to the more typical TypeError\u001b[39;00m\n\u001b[1;32m     97\u001b[0m     \u001b[39m# e.g. this is normally a disallowed function on\u001b[39;00m\n\u001b[1;32m     98\u001b[0m     \u001b[39m# object arrays that contain strings\u001b[39;00m\n\u001b[1;32m     99\u001b[0m     \u001b[39mif\u001b[39;00m is_object_dtype(args[\u001b[39m0\u001b[39m]):\n",
      "File \u001b[0;32m~/.pyenv/versions/3.8.16/envs/dsc80_39/lib/python3.8/site-packages/pandas/core/nanops.py:155\u001b[0m, in \u001b[0;36mbottleneck_switch.__call__.<locals>.f\u001b[0;34m(values, axis, skipna, **kwds)\u001b[0m\n\u001b[1;32m    153\u001b[0m         result \u001b[39m=\u001b[39m alt(values, axis\u001b[39m=\u001b[39maxis, skipna\u001b[39m=\u001b[39mskipna, \u001b[39m*\u001b[39m\u001b[39m*\u001b[39mkwds)\n\u001b[1;32m    154\u001b[0m \u001b[39melse\u001b[39;00m:\n\u001b[0;32m--> 155\u001b[0m     result \u001b[39m=\u001b[39m alt(values, axis\u001b[39m=\u001b[39;49maxis, skipna\u001b[39m=\u001b[39;49mskipna, \u001b[39m*\u001b[39;49m\u001b[39m*\u001b[39;49mkwds)\n\u001b[1;32m    157\u001b[0m \u001b[39mreturn\u001b[39;00m result\n",
      "File \u001b[0;32m~/.pyenv/versions/3.8.16/envs/dsc80_39/lib/python3.8/site-packages/pandas/core/nanops.py:410\u001b[0m, in \u001b[0;36m_datetimelike_compat.<locals>.new_func\u001b[0;34m(values, axis, skipna, mask, **kwargs)\u001b[0m\n\u001b[1;32m    407\u001b[0m \u001b[39mif\u001b[39;00m datetimelike \u001b[39mand\u001b[39;00m mask \u001b[39mis\u001b[39;00m \u001b[39mNone\u001b[39;00m:\n\u001b[1;32m    408\u001b[0m     mask \u001b[39m=\u001b[39m isna(values)\n\u001b[0;32m--> 410\u001b[0m result \u001b[39m=\u001b[39m func(values, axis\u001b[39m=\u001b[39;49maxis, skipna\u001b[39m=\u001b[39;49mskipna, mask\u001b[39m=\u001b[39;49mmask, \u001b[39m*\u001b[39;49m\u001b[39m*\u001b[39;49mkwargs)\n\u001b[1;32m    412\u001b[0m \u001b[39mif\u001b[39;00m datetimelike:\n\u001b[1;32m    413\u001b[0m     result \u001b[39m=\u001b[39m _wrap_results(result, orig_values\u001b[39m.\u001b[39mdtype, fill_value\u001b[39m=\u001b[39miNaT)\n",
      "File \u001b[0;32m~/.pyenv/versions/3.8.16/envs/dsc80_39/lib/python3.8/site-packages/pandas/core/nanops.py:665\u001b[0m, in \u001b[0;36mnanmean\u001b[0;34m(values, axis, skipna, mask)\u001b[0m\n\u001b[1;32m    662\u001b[0m     dtype_count \u001b[39m=\u001b[39m dtype\n\u001b[1;32m    664\u001b[0m count \u001b[39m=\u001b[39m _get_counts(values\u001b[39m.\u001b[39mshape, mask, axis, dtype\u001b[39m=\u001b[39mdtype_count)\n\u001b[0;32m--> 665\u001b[0m the_sum \u001b[39m=\u001b[39m _ensure_numeric(values\u001b[39m.\u001b[39;49msum(axis, dtype\u001b[39m=\u001b[39;49mdtype_sum))\n\u001b[1;32m    667\u001b[0m \u001b[39mif\u001b[39;00m axis \u001b[39mis\u001b[39;00m \u001b[39mnot\u001b[39;00m \u001b[39mNone\u001b[39;00m \u001b[39mand\u001b[39;00m \u001b[39mgetattr\u001b[39m(the_sum, \u001b[39m\"\u001b[39m\u001b[39mndim\u001b[39m\u001b[39m\"\u001b[39m, \u001b[39mFalse\u001b[39;00m):\n\u001b[1;32m    668\u001b[0m     count \u001b[39m=\u001b[39m cast(np\u001b[39m.\u001b[39mndarray, count)\n",
      "File \u001b[0;32m~/.pyenv/versions/3.8.16/envs/dsc80_39/lib/python3.8/site-packages/numpy/core/_methods.py:48\u001b[0m, in \u001b[0;36m_sum\u001b[0;34m(a, axis, dtype, out, keepdims, initial, where)\u001b[0m\n\u001b[1;32m     46\u001b[0m \u001b[39mdef\u001b[39;00m \u001b[39m_sum\u001b[39m(a, axis\u001b[39m=\u001b[39m\u001b[39mNone\u001b[39;00m, dtype\u001b[39m=\u001b[39m\u001b[39mNone\u001b[39;00m, out\u001b[39m=\u001b[39m\u001b[39mNone\u001b[39;00m, keepdims\u001b[39m=\u001b[39m\u001b[39mFalse\u001b[39;00m,\n\u001b[1;32m     47\u001b[0m          initial\u001b[39m=\u001b[39m_NoValue, where\u001b[39m=\u001b[39m\u001b[39mTrue\u001b[39;00m):\n\u001b[0;32m---> 48\u001b[0m     \u001b[39mreturn\u001b[39;00m umr_sum(a, axis, dtype, out, keepdims, initial, where)\n",
      "\u001b[0;31mTypeError\u001b[0m: can only concatenate str (not \"int\") to str"
     ]
    }
   ],
   "source": [
    "league_test.groupby(\"ban1_missing\")[\"ban2\"].mean()"
   ]
  },
  {
   "cell_type": "code",
   "execution_count": 11,
   "metadata": {},
   "outputs": [
    {
     "data": {
      "text/plain": [
       "0.7430555555555556"
      ]
     },
     "execution_count": 11,
     "metadata": {},
     "output_type": "execute_result"
    }
   ],
   "source": [
    "\n",
    "faker_data = league_raw.loc[\n",
    "    # (league_raw[\"champion\"] == \"Talon\"),\n",
    "    (league_raw[\"playername\"] == \"Faker\"),\n",
    "    [\"teamname\", \"playername\", \"champion\", \"result\"]\n",
    "]\n",
    "faker_data[\"result\"].mean()\n",
    "# Confirmed that 1 means win, 0 means loss\n",
    "# https://gol.gg/players/player-stats/48/season-S12/split-ALL/tournament-ALL/J (74.3% WR)"
   ]
  },
  {
   "cell_type": "code",
   "execution_count": 16,
   "metadata": {},
   "outputs": [
    {
     "data": {
      "text/plain": [
       "((65, 4), 0.5538461538461539)"
      ]
     },
     "execution_count": 16,
     "metadata": {},
     "output_type": "execute_result"
    }
   ],
   "source": [
    "talon_data = league_raw.loc[\n",
    "    (league_raw[\"champion\"] == \"Talon\"),\n",
    "    [\"teamname\", \"playername\", \"champion\", \"result\"]\n",
    "]\n",
    "talon_data.shape, talon_data[\"result\"].mean()"
   ]
  },
  {
   "cell_type": "code",
   "execution_count": null,
   "metadata": {},
   "outputs": [],
   "source": [
    "# EGR - early game rating\n",
    "# MLR - mid late game rating"
   ]
  },
  {
   "cell_type": "code",
   "execution_count": 28,
   "metadata": {},
   "outputs": [
    {
     "data": {
      "text/html": [
       "<div>\n",
       "<style scoped>\n",
       "    .dataframe tbody tr th:only-of-type {\n",
       "        vertical-align: middle;\n",
       "    }\n",
       "\n",
       "    .dataframe tbody tr th {\n",
       "        vertical-align: top;\n",
       "    }\n",
       "\n",
       "    .dataframe thead th {\n",
       "        text-align: right;\n",
       "    }\n",
       "</style>\n",
       "<table border=\"1\" class=\"dataframe\">\n",
       "  <thead>\n",
       "    <tr style=\"text-align: right;\">\n",
       "      <th></th>\n",
       "      <th>participantid</th>\n",
       "      <th>teamname</th>\n",
       "      <th>playername</th>\n",
       "      <th>champion</th>\n",
       "    </tr>\n",
       "  </thead>\n",
       "  <tbody>\n",
       "    <tr>\n",
       "      <th>0</th>\n",
       "      <td>1</td>\n",
       "      <td>Fredit BRION Challengers</td>\n",
       "      <td>Soboro</td>\n",
       "      <td>Renekton</td>\n",
       "    </tr>\n",
       "    <tr>\n",
       "      <th>1</th>\n",
       "      <td>2</td>\n",
       "      <td>Fredit BRION Challengers</td>\n",
       "      <td>Raptor</td>\n",
       "      <td>Xin Zhao</td>\n",
       "    </tr>\n",
       "    <tr>\n",
       "      <th>2</th>\n",
       "      <td>3</td>\n",
       "      <td>Fredit BRION Challengers</td>\n",
       "      <td>Feisty</td>\n",
       "      <td>LeBlanc</td>\n",
       "    </tr>\n",
       "    <tr>\n",
       "      <th>3</th>\n",
       "      <td>4</td>\n",
       "      <td>Fredit BRION Challengers</td>\n",
       "      <td>Gamin</td>\n",
       "      <td>Samira</td>\n",
       "    </tr>\n",
       "    <tr>\n",
       "      <th>4</th>\n",
       "      <td>5</td>\n",
       "      <td>Fredit BRION Challengers</td>\n",
       "      <td>Loopy</td>\n",
       "      <td>Leona</td>\n",
       "    </tr>\n",
       "    <tr>\n",
       "      <th>5</th>\n",
       "      <td>6</td>\n",
       "      <td>Nongshim RedForce Challengers</td>\n",
       "      <td>DnDn</td>\n",
       "      <td>Gragas</td>\n",
       "    </tr>\n",
       "    <tr>\n",
       "      <th>6</th>\n",
       "      <td>7</td>\n",
       "      <td>Nongshim RedForce Challengers</td>\n",
       "      <td>Sylvie</td>\n",
       "      <td>Viego</td>\n",
       "    </tr>\n",
       "    <tr>\n",
       "      <th>7</th>\n",
       "      <td>8</td>\n",
       "      <td>Nongshim RedForce Challengers</td>\n",
       "      <td>FIESTA</td>\n",
       "      <td>Viktor</td>\n",
       "    </tr>\n",
       "    <tr>\n",
       "      <th>8</th>\n",
       "      <td>9</td>\n",
       "      <td>Nongshim RedForce Challengers</td>\n",
       "      <td>vital</td>\n",
       "      <td>Jinx</td>\n",
       "    </tr>\n",
       "    <tr>\n",
       "      <th>9</th>\n",
       "      <td>10</td>\n",
       "      <td>Nongshim RedForce Challengers</td>\n",
       "      <td>Blessing</td>\n",
       "      <td>Alistar</td>\n",
       "    </tr>\n",
       "    <tr>\n",
       "      <th>10</th>\n",
       "      <td>100</td>\n",
       "      <td>Fredit BRION Challengers</td>\n",
       "      <td>NaN</td>\n",
       "      <td>NaN</td>\n",
       "    </tr>\n",
       "    <tr>\n",
       "      <th>11</th>\n",
       "      <td>200</td>\n",
       "      <td>Nongshim RedForce Challengers</td>\n",
       "      <td>NaN</td>\n",
       "      <td>NaN</td>\n",
       "    </tr>\n",
       "  </tbody>\n",
       "</table>\n",
       "</div>"
      ],
      "text/plain": [
       "    participantid                       teamname playername  champion\n",
       "0               1       Fredit BRION Challengers     Soboro  Renekton\n",
       "1               2       Fredit BRION Challengers     Raptor  Xin Zhao\n",
       "2               3       Fredit BRION Challengers     Feisty   LeBlanc\n",
       "3               4       Fredit BRION Challengers      Gamin    Samira\n",
       "4               5       Fredit BRION Challengers      Loopy     Leona\n",
       "5               6  Nongshim RedForce Challengers       DnDn    Gragas\n",
       "6               7  Nongshim RedForce Challengers     Sylvie     Viego\n",
       "7               8  Nongshim RedForce Challengers     FIESTA    Viktor\n",
       "8               9  Nongshim RedForce Challengers      vital      Jinx\n",
       "9              10  Nongshim RedForce Challengers   Blessing   Alistar\n",
       "10            100       Fredit BRION Challengers        NaN       NaN\n",
       "11            200  Nongshim RedForce Challengers        NaN       NaN"
      ]
     },
     "execution_count": 28,
     "metadata": {},
     "output_type": "execute_result"
    }
   ],
   "source": [
    "matchgb[[\"participantid\", \"teamname\", \"playername\", \"champion\"]]"
   ]
  },
  {
   "cell_type": "code",
   "execution_count": null,
   "metadata": {},
   "outputs": [],
   "source": [
    "league_raw."
   ]
  },
  {
   "cell_type": "code",
   "execution_count": null,
   "metadata": {},
   "outputs": [],
   "source": []
  },
  {
   "cell_type": "code",
   "execution_count": null,
   "metadata": {},
   "outputs": [],
   "source": []
  }
 ],
 "metadata": {
  "kernelspec": {
   "display_name": "dsc80_39",
   "language": "python",
   "name": "python3"
  },
  "language_info": {
   "codemirror_mode": {
    "name": "ipython",
    "version": 3
   },
   "file_extension": ".py",
   "mimetype": "text/x-python",
   "name": "python",
   "nbconvert_exporter": "python",
   "pygments_lexer": "ipython3",
   "version": "3.8.16"
  },
  "orig_nbformat": 4
 },
 "nbformat": 4,
 "nbformat_minor": 2
}
